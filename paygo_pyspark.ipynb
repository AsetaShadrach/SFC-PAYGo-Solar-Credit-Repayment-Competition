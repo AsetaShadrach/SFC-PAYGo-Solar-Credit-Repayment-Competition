{
 "cells": [
  {
   "cell_type": "markdown",
   "metadata": {},
   "source": [
    "# PAYGO LOAN DEFAULT"
   ]
  },
  {
   "cell_type": "code",
   "execution_count": 1,
   "metadata": {},
   "outputs": [
    {
     "name": "stderr",
     "output_type": "stream",
     "text": [
      "C:\\Users\\Aseta\\Anaconda3\\lib\\site-packages\\statsmodels\\tools\\_testing.py:19: FutureWarning: pandas.util.testing is deprecated. Use the functions in the public API at pandas.testing instead.\n",
      "  import pandas.util.testing as tm\n"
     ]
    }
   ],
   "source": [
    "%matplotlib inline\n",
    "import pandas as pd\n",
    "import numpy as np\n",
    "import matplotlib.pyplot as plt\n",
    "import seaborn as sns\n",
    "from sklearn.model_selection import train_test_split, GridSearchCV\n",
    "from sklearn.pipeline import Pipeline\n",
    "from sklearn.ensemble import RandomForestRegressor as RFR\n",
    "from sklearn.metrics import mean_squared_error as mse\n",
    "import pyspark\n",
    "from pyspark.sql import SQLContext\n",
    "from pyspark.sql.types import *\n",
    "from pyspark.sql.functions import *"
   ]
  },
  {
   "cell_type": "code",
   "execution_count": 2,
   "metadata": {},
   "outputs": [],
   "source": [
    "sc = pyspark.SparkContext('local[*]')\n",
    "sql_context = SQLContext(sc)"
   ]
  },
  {
   "cell_type": "code",
   "execution_count": 176,
   "metadata": {},
   "outputs": [],
   "source": [
    "train = sql_context.read.csv('Train.csv',header=True , inferSchema=True)\n",
    "#train.printSchema()\n",
    "metadata = sql_context.read.csv('metadata.csv',header=True, inferSchema=True)\n",
    "#metadata.printSchema()\n",
    "#metadata.show(3)"
   ]
  },
  {
   "cell_type": "code",
   "execution_count": 180,
   "metadata": {},
   "outputs": [
    {
     "name": "stdout",
     "output_type": "stream",
     "text": [
      "root\n",
      " |-- ID: string (nullable = true)\n",
      " |-- Deposit: integer (nullable = true)\n",
      " |-- rateTypeEntity: string (nullable = true)\n",
      " |-- RatePerUnit: integer (nullable = true)\n",
      " |-- DaysOnDeposit: integer (nullable = true)\n",
      " |-- MainApplicantGender: string (nullable = true)\n",
      " |-- Age: integer (nullable = true)\n",
      " |-- Region: string (nullable = true)\n",
      " |-- Occupation: string (nullable = true)\n",
      " |-- Term: integer (nullable = true)\n",
      " |-- TotalContractValue: integer (nullable = true)\n",
      " |-- days_left_to_deadline: integer (nullable = true)\n",
      " |-- days_from_start: integer (nullable = true)\n",
      "\n"
     ]
    }
   ],
   "source": [
    "for col in ['RegistrationDate','ExpectedTermDate','FirstPaymentDate','LastPaymentDate']:\n",
    "    metadata = metadata.withColumn(col, to_timestamp(metadata[col],'dd/MM/yyyy HH:mm') )\n",
    "\n",
    "metadata = metadata.withColumn('days_left_to_deadline', datediff('ExpectedTermDate','LastPaymentDate')) \n",
    "metadata = metadata.withColumn('days_from_start', datediff('LastPaymentDate','RegistrationDate'))\n",
    "\n",
    "metadata_col_drop =('PaymentMethod','SupplierName','UpsellDate','AccessoryRate','Town',\n",
    "               'RegistrationDate','ExpectedTermDate','FirstPaymentDate','LastPaymentDate')\n",
    "metadata = metadata.drop(*metadata_col_drop)\n",
    "metadata.printSchema()"
   ]
  },
  {
   "cell_type": "code",
   "execution_count": 181,
   "metadata": {},
   "outputs": [],
   "source": [
    "def hist_to_list(x):\n",
    "    return (list(map(float, x.strip('[]').split(','))))\n",
    "\n",
    "\n",
    "list_from_hist = udf(hist_to_list,ArrayType(FloatType()))\n",
    "mean_udf = udf(lambda x: float(np.mean(x)), FloatType())\n",
    "age_grouper_udf = udf(age_grouper,StringType())\n",
    "\n",
    "\n",
    "def age_grouper(x):\n",
    "    if type(x)== int:\n",
    "        if x<30:\n",
    "            return '<31'\n",
    "        elif x<50:\n",
    "            return '31-60'\n",
    "        else:\n",
    "            return '>60'\n",
    "    else:\n",
    "        return 'other' #not given or missing\n",
    "\n",
    "        \n",
    "def create_dict_converter(df):#train_data\n",
    "    # Get dictionaries for labels\n",
    "    for i in df.columns:\n",
    "        print(i)\n",
    "        if df.select(i).dtypes[0][i] == 'string' and i!= 'ID' :\n",
    "            new_dict = dict()\n",
    "            for j,unique_value in enumerate( df.select(i).distinct().collect() ):\n",
    "                new_dict[unique_value.i] = j\n",
    "                #print(unique_value.i)\n",
    "            name_ = 'dict_'+str(unique_value.i) \n",
    "            globals()[name_]=new_dict\n",
    "            \n",
    "            \n",
    "def unda_df(df):#train\n",
    "    df = df.withColumn('max_pay',array_max(list_from_hist('PaymentsHistory')))\n",
    "    df = df.withColumn('min_pay',array_min(list_from_hist('PaymentsHistory')))\n",
    "    df = df.withColumn('mean_pay', mean_udf(list_from_hist('PaymentsHistory')))\n",
    "    df = df.drop('PaymentsHistory','TransactionDates')\n",
    "    data_df = metadata.join(df,'ID','outer')\n",
    "\n",
    "    df_data = data_df.withColumn('Age',age_grouper_udf('Age') )\n",
    "    df_data = df_data.fillna('Not Given' , subset=['Region'])\n",
    "    return df_data"
   ]
  },
  {
   "cell_type": "code",
   "execution_count": 182,
   "metadata": {},
   "outputs": [],
   "source": [
    "train_data = unda_df(train)"
   ]
  },
  {
   "cell_type": "code",
   "execution_count": 185,
   "metadata": {},
   "outputs": [
    {
     "name": "stdout",
     "output_type": "stream",
     "text": [
      "+----------+-------+--------------+-----------+-------------+-------------------+-----+------------------+----------+----+------------------+---------------------+---------------+------+------+------+------+------+------+-------+-------+---------+\n",
      "|        ID|Deposit|rateTypeEntity|RatePerUnit|DaysOnDeposit|MainApplicantGender|  Age|            Region|Occupation|Term|TotalContractValue|days_left_to_deadline|days_from_start|    m1|    m2|    m3|    m4|    m5|    m6|max_pay|min_pay| mean_pay|\n",
      "+----------+-------+--------------+-----------+-------------+-------------------+-----+------------------+----------+----+------------------+---------------------+---------------+------+------+------+------+------+------+-------+-------+---------+\n",
      "|ID_05JKQ04|   2500|         DAILY|         55|            3|               Male|other|           Western|  Business| 556|             33080|                 -204|            760|1155.0|1265.0|1320.0|1100.0|1322.0|1184.0| 2610.0|  385.0|   1286.7|\n",
      "|ID_08KX12Z|   2500|         DAILY|         55|            3|               Male|31-60|            Nyanza|     Other| 556|             33080|                  -25|            581|1210.0|1540.0|1815.0|1430.0|1595.0| 935.0| 3490.0|  825.0|1753.9286|\n",
      "|ID_0A4UBGN|   2999|         DAILY|         55|            3|             Female|31-60|Mount Kenya Region|  Labourer| 547|             33084|                  -54|            601|1595.0|1540.0|1540.0|1595.0| 935.0| 714.0| 3350.0| 1375.0|1677.6666|\n",
      "+----------+-------+--------------+-----------+-------------+-------------------+-----+------------------+----------+----+------------------+---------------------+---------------+------+------+------+------+------+------+-------+-------+---------+\n",
      "only showing top 3 rows\n",
      "\n"
     ]
    }
   ],
   "source": [
    "train_data.show(3)"
   ]
  },
  {
   "cell_type": "code",
   "execution_count": null,
   "metadata": {},
   "outputs": [],
   "source": []
  },
  {
   "cell_type": "code",
   "execution_count": null,
   "metadata": {},
   "outputs": [],
   "source": []
  },
  {
   "cell_type": "code",
   "execution_count": 173,
   "metadata": {},
   "outputs": [],
   "source": [
    "'''\n",
    "def create_dict_converter(df):#train_data\n",
    "    # Get dictionaries for labels\n",
    "    for i in df.columns:\n",
    "        if df[i].dtype == 'object' and i!= 'ID' :\n",
    "            new_dict = dict()\n",
    "            for j,unique_value in enumerate(df[i].unique()):\n",
    "                new_dict[unique_value] = j\n",
    "            name_ = 'dict_'+str(i) \n",
    "            globals()[name_]=new_dict\n",
    "'''                  \n",
    "            \n",
    "\n",
    "    \n",
    "def unda_df_2(df_data):\n",
    "    for i in df_data.columns:\n",
    "        if df_data[i].dtype == 'object' and i!= 'ID' :\n",
    "            df_data[i] = df_data[i].astype(\"category\")\n",
    "            df_data[i] = df_data[i].apply(lambda x:globals()['dict_'+str(i)][x])\n",
    "    \n",
    "    df_data = df_data.set_index('ID')\n",
    "    df_data_reduced = df_data.drop(['rateTypeEntity','RatePerUnit','DaysOnDeposit'], axis=1)\n",
    "    return df_data_reduced\n",
    "\n",
    "def train_data_only(df_data_reduced):\n",
    "    df_data_reduced_ = df_data_reduced[[i for i in df_data_reduced.columns if i not in ['m1','m2','m3','m4','m5','m6']]]\n",
    "    df_data_reduced_[['m1','m2','m3','m4','m5','m6']] = df_data_reduced[['m1','m2','m3','m4','m5','m6']]    \n",
    "    return df_data_reduced_"
   ]
  },
  {
   "cell_type": "code",
   "execution_count": 174,
   "metadata": {},
   "outputs": [
    {
     "name": "stderr",
     "output_type": "stream",
     "text": [
      "C:\\Users\\Aseta\\Anaconda3\\lib\\site-packages\\pandas\\core\\frame.py:3069: SettingWithCopyWarning: \n",
      "A value is trying to be set on a copy of a slice from a DataFrame.\n",
      "Try using .loc[row_indexer,col_indexer] = value instead\n",
      "\n",
      "See the caveats in the documentation: https://pandas.pydata.org/pandas-docs/stable/user_guide/indexing.html#returning-a-view-versus-a-copy\n",
      "  self[k1] = value[k2]\n"
     ]
    }
   ],
   "source": [
    "train_data = unda_df(train)\n",
    "create_dict_converter(train_data)\n",
    "train_data_reduced_ = unda_df_2(train_data)\n",
    "train_data_reduced = train_data_only(train_data_reduced_)"
   ]
  },
  {
   "cell_type": "code",
   "execution_count": 175,
   "metadata": {},
   "outputs": [
    {
     "data": {
      "text/html": [
       "<div>\n",
       "<style scoped>\n",
       "    .dataframe tbody tr th:only-of-type {\n",
       "        vertical-align: middle;\n",
       "    }\n",
       "\n",
       "    .dataframe tbody tr th {\n",
       "        vertical-align: top;\n",
       "    }\n",
       "\n",
       "    .dataframe thead th {\n",
       "        text-align: right;\n",
       "    }\n",
       "</style>\n",
       "<table border=\"1\" class=\"dataframe\">\n",
       "  <thead>\n",
       "    <tr style=\"text-align: right;\">\n",
       "      <th></th>\n",
       "      <th>Deposit</th>\n",
       "      <th>MainApplicantGender</th>\n",
       "      <th>Age</th>\n",
       "      <th>Region</th>\n",
       "      <th>Occupation</th>\n",
       "      <th>Term</th>\n",
       "      <th>TotalContractValue</th>\n",
       "      <th>days_to/past_deadline</th>\n",
       "      <th>days_from_start</th>\n",
       "      <th>mean_payment</th>\n",
       "      <th>max_payment</th>\n",
       "      <th>min_payment</th>\n",
       "      <th>m1</th>\n",
       "      <th>m2</th>\n",
       "      <th>m3</th>\n",
       "      <th>m4</th>\n",
       "      <th>m5</th>\n",
       "      <th>m6</th>\n",
       "    </tr>\n",
       "    <tr>\n",
       "      <th>ID</th>\n",
       "      <th></th>\n",
       "      <th></th>\n",
       "      <th></th>\n",
       "      <th></th>\n",
       "      <th></th>\n",
       "      <th></th>\n",
       "      <th></th>\n",
       "      <th></th>\n",
       "      <th></th>\n",
       "      <th></th>\n",
       "      <th></th>\n",
       "      <th></th>\n",
       "      <th></th>\n",
       "      <th></th>\n",
       "      <th></th>\n",
       "      <th></th>\n",
       "      <th></th>\n",
       "      <th></th>\n",
       "    </tr>\n",
       "  </thead>\n",
       "  <tbody>\n",
       "    <tr>\n",
       "      <th>ID_K00S4N4</th>\n",
       "      <td>2000</td>\n",
       "      <td>0</td>\n",
       "      <td>0</td>\n",
       "      <td>0</td>\n",
       "      <td>0</td>\n",
       "      <td>364</td>\n",
       "      <td>14740</td>\n",
       "      <td>45</td>\n",
       "      <td>318</td>\n",
       "      <td>1422.000000</td>\n",
       "      <td>3050.0</td>\n",
       "      <td>910.0</td>\n",
       "      <td>1225.0</td>\n",
       "      <td>1050.0</td>\n",
       "      <td>1190.0</td>\n",
       "      <td>525.0</td>\n",
       "      <td>1750.0</td>\n",
       "      <td>1890.0</td>\n",
       "    </tr>\n",
       "    <tr>\n",
       "      <th>ID_102CV85</th>\n",
       "      <td>2000</td>\n",
       "      <td>1</td>\n",
       "      <td>0</td>\n",
       "      <td>1</td>\n",
       "      <td>1</td>\n",
       "      <td>392</td>\n",
       "      <td>29480</td>\n",
       "      <td>-20</td>\n",
       "      <td>411</td>\n",
       "      <td>1281.111111</td>\n",
       "      <td>4245.0</td>\n",
       "      <td>735.0</td>\n",
       "      <td>980.0</td>\n",
       "      <td>980.0</td>\n",
       "      <td>1225.0</td>\n",
       "      <td>980.0</td>\n",
       "      <td>935.0</td>\n",
       "      <td>355.0</td>\n",
       "    </tr>\n",
       "    <tr>\n",
       "      <th>ID_HXBJFHB</th>\n",
       "      <td>2000</td>\n",
       "      <td>1</td>\n",
       "      <td>0</td>\n",
       "      <td>2</td>\n",
       "      <td>2</td>\n",
       "      <td>364</td>\n",
       "      <td>14740</td>\n",
       "      <td>-181</td>\n",
       "      <td>544</td>\n",
       "      <td>1006.363636</td>\n",
       "      <td>2245.0</td>\n",
       "      <td>250.0</td>\n",
       "      <td>250.0</td>\n",
       "      <td>1000.0</td>\n",
       "      <td>250.0</td>\n",
       "      <td>500.0</td>\n",
       "      <td>560.0</td>\n",
       "      <td>1150.0</td>\n",
       "    </tr>\n",
       "    <tr>\n",
       "      <th>ID_3K9VZ5J</th>\n",
       "      <td>2000</td>\n",
       "      <td>1</td>\n",
       "      <td>1</td>\n",
       "      <td>0</td>\n",
       "      <td>0</td>\n",
       "      <td>364</td>\n",
       "      <td>14740</td>\n",
       "      <td>-164</td>\n",
       "      <td>527</td>\n",
       "      <td>894.166667</td>\n",
       "      <td>2750.0</td>\n",
       "      <td>280.0</td>\n",
       "      <td>630.0</td>\n",
       "      <td>805.0</td>\n",
       "      <td>700.0</td>\n",
       "      <td>855.0</td>\n",
       "      <td>245.0</td>\n",
       "      <td>775.0</td>\n",
       "    </tr>\n",
       "    <tr>\n",
       "      <th>ID_6YU5YRB</th>\n",
       "      <td>2000</td>\n",
       "      <td>0</td>\n",
       "      <td>1</td>\n",
       "      <td>0</td>\n",
       "      <td>0</td>\n",
       "      <td>364</td>\n",
       "      <td>14740</td>\n",
       "      <td>-4</td>\n",
       "      <td>367</td>\n",
       "      <td>1254.285714</td>\n",
       "      <td>3010.0</td>\n",
       "      <td>665.0</td>\n",
       "      <td>1050.0</td>\n",
       "      <td>985.0</td>\n",
       "      <td>1085.0</td>\n",
       "      <td>980.0</td>\n",
       "      <td>1770.0</td>\n",
       "      <td>90.0</td>\n",
       "    </tr>\n",
       "  </tbody>\n",
       "</table>\n",
       "</div>"
      ],
      "text/plain": [
       "            Deposit MainApplicantGender Age Region Occupation  Term  \\\n",
       "ID                                                                    \n",
       "ID_K00S4N4     2000                   0   0      0          0   364   \n",
       "ID_102CV85     2000                   1   0      1          1   392   \n",
       "ID_HXBJFHB     2000                   1   0      2          2   364   \n",
       "ID_3K9VZ5J     2000                   1   1      0          0   364   \n",
       "ID_6YU5YRB     2000                   0   1      0          0   364   \n",
       "\n",
       "            TotalContractValue  days_to/past_deadline  days_from_start  \\\n",
       "ID                                                                       \n",
       "ID_K00S4N4               14740                     45              318   \n",
       "ID_102CV85               29480                    -20              411   \n",
       "ID_HXBJFHB               14740                   -181              544   \n",
       "ID_3K9VZ5J               14740                   -164              527   \n",
       "ID_6YU5YRB               14740                     -4              367   \n",
       "\n",
       "            mean_payment  max_payment  min_payment      m1      m2      m3  \\\n",
       "ID                                                                           \n",
       "ID_K00S4N4   1422.000000       3050.0        910.0  1225.0  1050.0  1190.0   \n",
       "ID_102CV85   1281.111111       4245.0        735.0   980.0   980.0  1225.0   \n",
       "ID_HXBJFHB   1006.363636       2245.0        250.0   250.0  1000.0   250.0   \n",
       "ID_3K9VZ5J    894.166667       2750.0        280.0   630.0   805.0   700.0   \n",
       "ID_6YU5YRB   1254.285714       3010.0        665.0  1050.0   985.0  1085.0   \n",
       "\n",
       "               m4      m5      m6  \n",
       "ID                                 \n",
       "ID_K00S4N4  525.0  1750.0  1890.0  \n",
       "ID_102CV85  980.0   935.0   355.0  \n",
       "ID_HXBJFHB  500.0   560.0  1150.0  \n",
       "ID_3K9VZ5J  855.0   245.0   775.0  \n",
       "ID_6YU5YRB  980.0  1770.0    90.0  "
      ]
     },
     "execution_count": 175,
     "metadata": {},
     "output_type": "execute_result"
    }
   ],
   "source": [
    "train_data_reduced.head()"
   ]
  },
  {
   "cell_type": "code",
   "execution_count": 166,
   "metadata": {},
   "outputs": [
    {
     "data": {
      "text/plain": [
       "(28007, 18)"
      ]
     },
     "execution_count": 166,
     "metadata": {},
     "output_type": "execute_result"
    }
   ],
   "source": [
    "train_data_reduced.shape"
   ]
  },
  {
   "cell_type": "code",
   "execution_count": 138,
   "metadata": {},
   "outputs": [
    {
     "data": {
      "text/plain": [
       "'\\nplt.figure(figsize=(13,13))\\nsns.heatmap(train_data_reduced.corr(),annot=True)\\n'"
      ]
     },
     "execution_count": 138,
     "metadata": {},
     "output_type": "execute_result"
    }
   ],
   "source": [
    "'''\n",
    "plt.figure(figsize=(13,13))\n",
    "sns.heatmap(train_data_reduced.corr(),annot=True)\n",
    "'''"
   ]
  },
  {
   "cell_type": "code",
   "execution_count": null,
   "metadata": {},
   "outputs": [],
   "source": []
  },
  {
   "cell_type": "code",
   "execution_count": 139,
   "metadata": {},
   "outputs": [
    {
     "data": {
      "text/plain": [
       "\"\\nnot_to_plot=['m1','m2','m3','m4','m5','m6','MainApplicantGender', 'Age', 'Region', 'Occupation']\\n\\nplt.rcParams['figure.figsize']=(14,30)#len(train_data_reduced.columns)*3))\\nfig, ax = plt.subplots(len(train_data_reduced.columns)-len(not_to_plot),1,gridspec_kw={'hspace':1,'width_ratios': [0.4]})\\n\\nfor i,j in enumerate([i for i in train_data_reduced.columns if i not in not_to_plot]):\\n    ax[i].boxplot(train_data_reduced[j],vert=0,)\\n    ax[i].set_title(j)\\n\""
      ]
     },
     "execution_count": 139,
     "metadata": {},
     "output_type": "execute_result"
    }
   ],
   "source": [
    "'''\n",
    "not_to_plot=['m1','m2','m3','m4','m5','m6','MainApplicantGender', 'Age', 'Region', 'Occupation']\n",
    "\n",
    "plt.rcParams['figure.figsize']=(14,30)#len(train_data_reduced.columns)*3))\n",
    "fig, ax = plt.subplots(len(train_data_reduced.columns)-len(not_to_plot),1,gridspec_kw={'hspace':1,'width_ratios': [0.4]})\n",
    "\n",
    "for i,j in enumerate([i for i in train_data_reduced.columns if i not in not_to_plot]):\n",
    "    ax[i].boxplot(train_data_reduced[j],vert=0,)\n",
    "    ax[i].set_title(j)\n",
    "'''"
   ]
  },
  {
   "cell_type": "code",
   "execution_count": null,
   "metadata": {},
   "outputs": [],
   "source": []
  },
  {
   "cell_type": "code",
   "execution_count": null,
   "metadata": {},
   "outputs": [],
   "source": []
  },
  {
   "cell_type": "markdown",
   "metadata": {},
   "source": [
    "### Base Model"
   ]
  },
  {
   "cell_type": "code",
   "execution_count": 140,
   "metadata": {},
   "outputs": [
    {
     "data": {
      "text/plain": [
       "\"\\nx = train_data[[i for i in train_data.columns if i not in ['m1','m2','m3','m4','m5','m6']]]\\ny = train_data[['m1','m2','m3','m4','m5','m6']]\\ntrain_x,test_x,train_y,test_y = train_test_split(x,y,test_size= 0.2, random_state=12)\\n\\nmodel = RFR(n_estimators = 500, max_depth=4)\\nmodel.fit(train_x,train_y)\\nmodel_result = model.predict(test_x)\\nprint('MSE : ',mse(model_result,test_y),'\\nRMSE : ',mse(model_result,test_y,squared=False))\\nplt.figure(figsize=(10,10))\\nplt.barh(train_x.columns,model.feature_importances_ )\\n\""
      ]
     },
     "execution_count": 140,
     "metadata": {},
     "output_type": "execute_result"
    }
   ],
   "source": [
    "'''\n",
    "x = train_data[[i for i in train_data.columns if i not in ['m1','m2','m3','m4','m5','m6']]]\n",
    "y = train_data[['m1','m2','m3','m4','m5','m6']]\n",
    "train_x,test_x,train_y,test_y = train_test_split(x,y,test_size= 0.2, random_state=12)\n",
    "\n",
    "model = RFR(n_estimators = 500, max_depth=4)\n",
    "model.fit(train_x,train_y)\n",
    "model_result = model.predict(test_x)\n",
    "print('MSE : ',mse(model_result,test_y),'\\nRMSE : ',mse(model_result,test_y,squared=False))\n",
    "plt.figure(figsize=(10,10))\n",
    "plt.barh(train_x.columns,model.feature_importances_ )\n",
    "'''"
   ]
  },
  {
   "cell_type": "markdown",
   "metadata": {},
   "source": [
    "### MODEL"
   ]
  },
  {
   "cell_type": "code",
   "execution_count": 176,
   "metadata": {},
   "outputs": [],
   "source": [
    "x = train_data_reduced[[i for i in train_data_reduced.columns if i not in ['m1','m2','m3','m4','m5','m6']]]\n",
    "y = train_data_reduced[['m1','m2','m3','m4','m5','m6']]\n",
    "train_x,test_x,train_y,test_y = train_test_split(x,y,test_size= 0.2, random_state=12)\n"
   ]
  },
  {
   "cell_type": "code",
   "execution_count": 178,
   "metadata": {},
   "outputs": [
    {
     "data": {
      "text/plain": [
       "\"\\nmodel = RFR()\\nparam_dict = {\\n    'n_estimators' : np.arange(300,800,100),\\n    'max_depth' : np.arange(7,13) \\n}\\ngcv_search = GridSearchCV(model, param_grid=param_dict, n_jobs=-1, cv=10)\\nsearch = gcv_search.fit(train_x,train_y)\\nsearch.best_params_\\n\""
      ]
     },
     "execution_count": 178,
     "metadata": {},
     "output_type": "execute_result"
    }
   ],
   "source": [
    "'''\n",
    "model = RFR()\n",
    "param_dict = {\n",
    "    'n_estimators' : np.arange(300,800,100),\n",
    "    'max_depth' : np.arange(7,13) \n",
    "}\n",
    "gcv_search = GridSearchCV(model, param_grid=param_dict, n_jobs=-1, cv=10)\n",
    "search = gcv_search.fit(train_x,train_y)\n",
    "search.best_params_\n",
    "'''"
   ]
  },
  {
   "cell_type": "code",
   "execution_count": 179,
   "metadata": {},
   "outputs": [
    {
     "name": "stdout",
     "output_type": "stream",
     "text": [
      "MSE :  420368.0740026815 \n",
      "RMSE :  584.9357509526313\n"
     ]
    },
    {
     "data": {
      "text/plain": [
       "<BarContainer object of 12 artists>"
      ]
     },
     "execution_count": 179,
     "metadata": {},
     "output_type": "execute_result"
    },
    {
     "data": {
      "image/png": "[encoded data removed]",
      "text/plain": [
       "<Figure size 720x720 with 1 Axes>"
      ]
     },
     "metadata": {
      "needs_background": "light"
     },
     "output_type": "display_data"
    }
   ],
   "source": [
    "model = RFR(n_estimators= 600, max_depth=10)\n",
    "model.fit(train_x, train_y)\n",
    "model_result = model.predict(test_x)\n",
    "print('MSE : ',mse(model_result,test_y),'\\nRMSE : ',mse(model_result,test_y,squared=False))\n",
    "plt.figure(figsize=(10,10))\n",
    "plt.barh(train_x.columns,model.feature_importances_ )"
   ]
  },
  {
   "cell_type": "code",
   "execution_count": null,
   "metadata": {},
   "outputs": [],
   "source": []
  },
  {
   "cell_type": "code",
   "execution_count": 144,
   "metadata": {},
   "outputs": [],
   "source": [
    "#pipeline = Pipeline(steps =[('unda_df',unda_df(train)) ,('unda_df_2',unda_df_2(train_data)), ('model',RFR(n_estimators= 500, max_depth=10))] )"
   ]
  },
  {
   "cell_type": "code",
   "execution_count": 180,
   "metadata": {},
   "outputs": [],
   "source": [
    "test = pd.read_csv(\"Test.csv\")\n",
    "test_data = unda_df(test)\n",
    "test_data_reduced_ = unda_df_2(test_data)"
   ]
  },
  {
   "cell_type": "code",
   "execution_count": null,
   "metadata": {},
   "outputs": [],
   "source": []
  },
  {
   "cell_type": "code",
   "execution_count": 184,
   "metadata": {},
   "outputs": [
    {
     "data": {
      "text/html": [
       "<div>\n",
       "<style scoped>\n",
       "    .dataframe tbody tr th:only-of-type {\n",
       "        vertical-align: middle;\n",
       "    }\n",
       "\n",
       "    .dataframe tbody tr th {\n",
       "        vertical-align: top;\n",
       "    }\n",
       "\n",
       "    .dataframe thead th {\n",
       "        text-align: right;\n",
       "    }\n",
       "</style>\n",
       "<table border=\"1\" class=\"dataframe\">\n",
       "  <thead>\n",
       "    <tr style=\"text-align: right;\">\n",
       "      <th></th>\n",
       "      <th>Target</th>\n",
       "    </tr>\n",
       "    <tr>\n",
       "      <th>ID</th>\n",
       "      <th></th>\n",
       "    </tr>\n",
       "  </thead>\n",
       "  <tbody>\n",
       "    <tr>\n",
       "      <th>ID_6L67PAA x m1</th>\n",
       "      <td>705.846229</td>\n",
       "    </tr>\n",
       "    <tr>\n",
       "      <th>ID_6L67PAA x m2</th>\n",
       "      <td>983.588503</td>\n",
       "    </tr>\n",
       "    <tr>\n",
       "      <th>ID_6L67PAA x m3</th>\n",
       "      <td>533.701003</td>\n",
       "    </tr>\n",
       "    <tr>\n",
       "      <th>ID_6L67PAA x m4</th>\n",
       "      <td>757.632014</td>\n",
       "    </tr>\n",
       "    <tr>\n",
       "      <th>ID_6L67PAA x m5</th>\n",
       "      <td>817.279000</td>\n",
       "    </tr>\n",
       "  </tbody>\n",
       "</table>\n",
       "</div>"
      ],
      "text/plain": [
       "                     Target\n",
       "ID                         \n",
       "ID_6L67PAA x m1  705.846229\n",
       "ID_6L67PAA x m2  983.588503\n",
       "ID_6L67PAA x m3  533.701003\n",
       "ID_6L67PAA x m4  757.632014\n",
       "ID_6L67PAA x m5  817.279000"
      ]
     },
     "execution_count": 184,
     "metadata": {},
     "output_type": "execute_result"
    }
   ],
   "source": [
    "model_result = model.predict(test_data_reduced_)\n",
    "\n",
    "model_result_df=pd.DataFrame(model_result,index=test_data_reduced_.index, columns=['m1','m2','m3','m4','m5','m6'])\n",
    "model_result_df = model_result_df.stack().reset_index()\n",
    "model_result_df['ID']= model_result_df[['ID','level_1']].agg(' x '.join, axis=1)\n",
    "model_result_df = model_result_df.drop('level_1',axis=1).rename(columns={0:'Target'}).set_index('ID')\n",
    "model_result_df.to_csv(\"Submission.csv\")\n",
    "model_result_df.head()"
   ]
  },
  {
   "cell_type": "code",
   "execution_count": null,
   "metadata": {},
   "outputs": [],
   "source": []
  },
  {
   "cell_type": "code",
   "execution_count": null,
   "metadata": {},
   "outputs": [],
   "source": []
  }
 ],
 "metadata": {
  "kernelspec": {
   "display_name": "Python 3",
   "language": "python",
   "name": "python3"
  },
  "language_info": {
   "codemirror_mode": {
    "name": "ipython",
    "version": 3
   },
   "file_extension": ".py",
   "mimetype": "text/x-python",
   "name": "python",
   "nbconvert_exporter": "python",
   "pygments_lexer": "ipython3",
   "version": "3.7.4"
  }
 },
 "nbformat": 4,
 "nbformat_minor": 4
}
