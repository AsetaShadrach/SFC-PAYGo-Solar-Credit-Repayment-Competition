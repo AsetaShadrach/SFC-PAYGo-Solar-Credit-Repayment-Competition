{
 "cells": [
  {
   "cell_type": "markdown",
   "source": [
    "# PAYGO LOAN DEFAULT"
   ],
   "metadata": {}
  },
  {
   "cell_type": "code",
   "execution_count": 1,
   "source": [
    "%matplotlib inline\r\n",
    "import pandas as pd\r\n",
    "import numpy as np\r\n",
    "from sklearn.model_selection import train_test_split\r\n",
    "from sklearn.pipeline import Pipeline\r\n",
    "from sklearn.ensemble import RandomForestRegressor as RFR\r\n",
    "from sklearn.metrics import mean_squared_error as mse,r2_score\r\n",
    "import warnings\r\n",
    "warnings.filterwarnings('ignore')\r\n",
    "from joblib import dump"
   ],
   "outputs": [],
   "metadata": {}
  },
  {
   "cell_type": "code",
   "execution_count": 2,
   "source": [
    "train = pd.read_csv('Train.csv',index_col='ID')"
   ],
   "outputs": [],
   "metadata": {}
  },
  {
   "cell_type": "code",
   "execution_count": 3,
   "source": [
    "class preprocess():\r\n",
    "    \r\n",
    "    def __init__(self):\r\n",
    "        self.df_data = None\r\n",
    "        \r\n",
    "    def age_grouper(self,x):\r\n",
    "        if x<30:\r\n",
    "            return '<31'\r\n",
    "        elif x<50:\r\n",
    "            return '31-60'\r\n",
    "        elif x>60:\r\n",
    "            return '>60'\r\n",
    "        else:\r\n",
    "            return 'other' #not given or missing\r\n",
    "        \r\n",
    "        \r\n",
    "    def create_dict_converter(self):#train_data\r\n",
    "        # Get dictionaries for labels\r\n",
    "        for i in self.df_data.columns:\r\n",
    "            if self.df_data[i].dtype == 'object' :\r\n",
    "                new_dict = dict()\r\n",
    "                for j,unique_value in enumerate(self.df_data[i].unique()):\r\n",
    "                    new_dict[unique_value] = j \r\n",
    "                name_ = 'dict_'+str(i) \r\n",
    "                globals()[name_]=new_dict\r\n",
    "        return self\r\n",
    "                   \r\n",
    "            \r\n",
    "    def fit(self,X,Y):#train \r\n",
    "        self.Y = Y\r\n",
    "        return self\r\n",
    "    \r\n",
    "    \r\n",
    "    def transform(self,X,Y=None): \r\n",
    "        metadata = pd.read_csv('metadata.csv',index_col='ID')\r\n",
    "        cols = ['RegistrationDate','ExpectedTermDate','FirstPaymentDate','LastPaymentDate']\r\n",
    "        metadata[cols] = metadata[cols].apply(lambda x:pd.to_datetime(x, format='%d/%m/%Y %H:%M') )\r\n",
    "        metadata['days_to/past_deadline'] = (metadata['ExpectedTermDate'] - metadata['LastPaymentDate']).apply(lambda x:x.days) \r\n",
    "        metadata['days_from_start'] = (metadata['LastPaymentDate'] - metadata['RegistrationDate']).apply(lambda x:x.days)\r\n",
    "        metadata['Region'] = metadata['Region'].fillna('Not Given')\r\n",
    "        metadata['Age'] = metadata['Age'].apply(self.age_grouper)\r\n",
    "        cols_drop =['PaymentMethod','SupplierName','UpsellDate','AccessoryRate','Town',\r\n",
    "                   'RegistrationDate','ExpectedTermDate','FirstPaymentDate','LastPaymentDate','TransactionDates',\r\n",
    "                    'PaymentsHistory','rateTypeEntity','RatePerUnit','DaysOnDeposit']\r\n",
    "        \r\n",
    "        X_=X.copy()\r\n",
    "        X_['mean_payment'] = X_['PaymentsHistory'].apply(lambda x:np.mean(list(map(float, x.strip('[]').split(','))) ))\r\n",
    "        X_['max_payment'] = X_['PaymentsHistory'].apply(lambda x:np.max(list(map(float, x.strip('[]').split(','))) ))\r\n",
    "        X_['min_payment'] = X_['PaymentsHistory'].apply(lambda x:np.min(list(map(float, x.strip('[]').split(','))) ))\r\n",
    "    \r\n",
    "        self.df_data = pd.concat([metadata, X_],axis=1).drop(cols_drop, axis=1)\r\n",
    "        \r\n",
    "        if self.Y is not None:\r\n",
    "            if any(item in self.Y.columns for item in ['m1','m2','m3']):\r\n",
    "                self.create_dict_converter()\r\n",
    "            self.df_data = self.df_data.dropna(axis=0,how='any')#drop nulls for train data only\r\n",
    "        \r\n",
    "        self.df_data = self.df_data.fillna(self.df_data.mode())#fill nulls (most likely for test set) \r\n",
    "        \r\n",
    "        for i in self.df_data.columns:\r\n",
    "            self.create_dict_converter()\r\n",
    "            if self.df_data[i].dtype == 'object':\r\n",
    "                self.df_data[i] = self.df_data[i].astype(\"category\").apply(lambda x:globals()['dict_'+str(i)][x])\r\n",
    "       \r\n",
    "               \r\n",
    "        return self.df_data\r\n",
    " "
   ],
   "outputs": [],
   "metadata": {}
  },
  {
   "cell_type": "code",
   "execution_count": null,
   "source": [],
   "outputs": [],
   "metadata": {}
  },
  {
   "cell_type": "code",
   "execution_count": 4,
   "source": [
    "pipeline = Pipeline(steps=[ ('preprocess_func',preprocess()),\n",
    "                           ('model',RFR(n_estimators= 600, max_depth=10))\n",
    "                          ])\n",
    "\n",
    "x = train[[i for i in train.columns if i not in ['m1','m2','m3','m4','m5','m6']]]\n",
    "y = train[['m1','m2','m3','m4','m5','m6']]\n",
    "\n",
    "x_train,x_test ,y_train,y_test = train_test_split(x,y,test_size = 0.2,random_state = 123)"
   ],
   "outputs": [],
   "metadata": {}
  },
  {
   "cell_type": "code",
   "execution_count": 5,
   "source": [
    "pipeline.fit(x_train,y_train)"
   ],
   "outputs": [
    {
     "output_type": "execute_result",
     "data": {
      "text/plain": [
       "Pipeline(steps=[('preprocess_func',\n",
       "                 <__main__.preprocess object at 0x000002A4C60C01C8>),\n",
       "                ('model',\n",
       "                 RandomForestRegressor(max_depth=10, n_estimators=600))])"
      ]
     },
     "metadata": {},
     "execution_count": 5
    }
   ],
   "metadata": {}
  },
  {
   "cell_type": "code",
   "execution_count": 6,
   "source": [
    "y_pred = pipeline.predict(x_test)"
   ],
   "outputs": [],
   "metadata": {}
  },
  {
   "cell_type": "code",
   "execution_count": 8,
   "source": [
    "x.shape"
   ],
   "outputs": [
    {
     "output_type": "execute_result",
     "data": {
      "text/plain": [
       "(28007, 2)"
      ]
     },
     "metadata": {},
     "execution_count": 8
    }
   ],
   "metadata": {}
  },
  {
   "cell_type": "code",
   "execution_count": 11,
   "source": [
    "print(\"R2 Score : {}\\nRMSE Score : {}\".format(r2_score(y_pred,y_test) , mse(y_pred,y_test,squared=False)))"
   ],
   "outputs": [
    {
     "output_type": "stream",
     "name": "stdout",
     "text": [
      "R2 Score : -45.24333893164283\n",
      "RMSE Score : 797.7902274272628\n"
     ]
    }
   ],
   "metadata": {}
  },
  {
   "cell_type": "code",
   "execution_count": 8,
   "source": [
    "#dump the pipeline model\r\n",
    "dump(pipeline, filename=\"paygo_default.joblib\")"
   ],
   "outputs": [
    {
     "output_type": "execute_result",
     "data": {
      "text/plain": [
       "['paygo_default.joblib']"
      ]
     },
     "metadata": {},
     "execution_count": 8
    }
   ],
   "metadata": {}
  },
  {
   "cell_type": "code",
   "execution_count": 11,
   "source": [
    "test =  pd.read_csv(\"Test.csv\",index_col=('ID') )\r\n",
    "result = pipeline.predict(test)\r\n",
    "np.shape(result)"
   ],
   "outputs": [
    {
     "output_type": "execute_result",
     "data": {
      "text/plain": [
       "(9336, 6)"
      ]
     },
     "metadata": {},
     "execution_count": 11
    }
   ],
   "metadata": {}
  },
  {
   "cell_type": "code",
   "execution_count": 21,
   "source": [
    "cols = ['m1','m2','m3','m4','m5','m6']\r\n",
    "cvv = test.copy()\r\n",
    "result = pipeline.predict(test) \r\n"
   ],
   "outputs": [],
   "metadata": {}
  },
  {
   "cell_type": "code",
   "execution_count": 22,
   "source": [
    "cvv[cols] =  result\r\n",
    "cvv[cols]"
   ],
   "outputs": [
    {
     "output_type": "execute_result",
     "data": {
      "text/plain": [
       "                    m1          m2           m3           m4          m5  \\\n",
       "ID                                                                         \n",
       "ID_6L67PAA  957.706433  875.211857  1241.287686  1496.864375  849.353245   \n",
       "ID_VJ80SX2  867.068576  846.921392   845.960589   856.846107  867.296994   \n",
       "ID_7OU9HLK  992.904328  931.922676  1005.205780  1504.496116  924.499364   \n",
       "ID_WVWTPGK  823.273255  811.305465   801.884231   810.800066  831.368430   \n",
       "ID_04DSDQS  838.439382  818.143638   809.707588   819.209287  845.678112   \n",
       "...                ...         ...          ...          ...         ...   \n",
       "ID_ATLMXQX  808.388842  798.159043   789.507141   798.270741  830.032727   \n",
       "ID_DYMC72D  810.058705  803.339147   792.513113   806.603545  819.810449   \n",
       "ID_5CBGHCN  857.068317  856.848862   843.312518   847.910844  880.890323   \n",
       "ID_HYHB585  810.173014  799.067761   793.634272   802.877324  823.411599   \n",
       "ID_WKQPWF3  785.803322  750.616179   787.260763   784.325356  948.498733   \n",
       "\n",
       "                     m6  \n",
       "ID                       \n",
       "ID_6L67PAA  1122.993737  \n",
       "ID_VJ80SX2   746.306184  \n",
       "ID_7OU9HLK   734.343290  \n",
       "ID_WVWTPGK   670.687547  \n",
       "ID_04DSDQS   676.892880  \n",
       "...                 ...  \n",
       "ID_ATLMXQX   677.493955  \n",
       "ID_DYMC72D   670.435564  \n",
       "ID_5CBGHCN   742.800992  \n",
       "ID_HYHB585   711.875967  \n",
       "ID_WKQPWF3   842.030427  \n",
       "\n",
       "[9336 rows x 6 columns]"
      ],
      "text/html": [
       "<div>\n",
       "<style scoped>\n",
       "    .dataframe tbody tr th:only-of-type {\n",
       "        vertical-align: middle;\n",
       "    }\n",
       "\n",
       "    .dataframe tbody tr th {\n",
       "        vertical-align: top;\n",
       "    }\n",
       "\n",
       "    .dataframe thead th {\n",
       "        text-align: right;\n",
       "    }\n",
       "</style>\n",
       "<table border=\"1\" class=\"dataframe\">\n",
       "  <thead>\n",
       "    <tr style=\"text-align: right;\">\n",
       "      <th></th>\n",
       "      <th>m1</th>\n",
       "      <th>m2</th>\n",
       "      <th>m3</th>\n",
       "      <th>m4</th>\n",
       "      <th>m5</th>\n",
       "      <th>m6</th>\n",
       "    </tr>\n",
       "    <tr>\n",
       "      <th>ID</th>\n",
       "      <th></th>\n",
       "      <th></th>\n",
       "      <th></th>\n",
       "      <th></th>\n",
       "      <th></th>\n",
       "      <th></th>\n",
       "    </tr>\n",
       "  </thead>\n",
       "  <tbody>\n",
       "    <tr>\n",
       "      <th>ID_6L67PAA</th>\n",
       "      <td>957.706433</td>\n",
       "      <td>875.211857</td>\n",
       "      <td>1241.287686</td>\n",
       "      <td>1496.864375</td>\n",
       "      <td>849.353245</td>\n",
       "      <td>1122.993737</td>\n",
       "    </tr>\n",
       "    <tr>\n",
       "      <th>ID_VJ80SX2</th>\n",
       "      <td>867.068576</td>\n",
       "      <td>846.921392</td>\n",
       "      <td>845.960589</td>\n",
       "      <td>856.846107</td>\n",
       "      <td>867.296994</td>\n",
       "      <td>746.306184</td>\n",
       "    </tr>\n",
       "    <tr>\n",
       "      <th>ID_7OU9HLK</th>\n",
       "      <td>992.904328</td>\n",
       "      <td>931.922676</td>\n",
       "      <td>1005.205780</td>\n",
       "      <td>1504.496116</td>\n",
       "      <td>924.499364</td>\n",
       "      <td>734.343290</td>\n",
       "    </tr>\n",
       "    <tr>\n",
       "      <th>ID_WVWTPGK</th>\n",
       "      <td>823.273255</td>\n",
       "      <td>811.305465</td>\n",
       "      <td>801.884231</td>\n",
       "      <td>810.800066</td>\n",
       "      <td>831.368430</td>\n",
       "      <td>670.687547</td>\n",
       "    </tr>\n",
       "    <tr>\n",
       "      <th>ID_04DSDQS</th>\n",
       "      <td>838.439382</td>\n",
       "      <td>818.143638</td>\n",
       "      <td>809.707588</td>\n",
       "      <td>819.209287</td>\n",
       "      <td>845.678112</td>\n",
       "      <td>676.892880</td>\n",
       "    </tr>\n",
       "    <tr>\n",
       "      <th>...</th>\n",
       "      <td>...</td>\n",
       "      <td>...</td>\n",
       "      <td>...</td>\n",
       "      <td>...</td>\n",
       "      <td>...</td>\n",
       "      <td>...</td>\n",
       "    </tr>\n",
       "    <tr>\n",
       "      <th>ID_ATLMXQX</th>\n",
       "      <td>808.388842</td>\n",
       "      <td>798.159043</td>\n",
       "      <td>789.507141</td>\n",
       "      <td>798.270741</td>\n",
       "      <td>830.032727</td>\n",
       "      <td>677.493955</td>\n",
       "    </tr>\n",
       "    <tr>\n",
       "      <th>ID_DYMC72D</th>\n",
       "      <td>810.058705</td>\n",
       "      <td>803.339147</td>\n",
       "      <td>792.513113</td>\n",
       "      <td>806.603545</td>\n",
       "      <td>819.810449</td>\n",
       "      <td>670.435564</td>\n",
       "    </tr>\n",
       "    <tr>\n",
       "      <th>ID_5CBGHCN</th>\n",
       "      <td>857.068317</td>\n",
       "      <td>856.848862</td>\n",
       "      <td>843.312518</td>\n",
       "      <td>847.910844</td>\n",
       "      <td>880.890323</td>\n",
       "      <td>742.800992</td>\n",
       "    </tr>\n",
       "    <tr>\n",
       "      <th>ID_HYHB585</th>\n",
       "      <td>810.173014</td>\n",
       "      <td>799.067761</td>\n",
       "      <td>793.634272</td>\n",
       "      <td>802.877324</td>\n",
       "      <td>823.411599</td>\n",
       "      <td>711.875967</td>\n",
       "    </tr>\n",
       "    <tr>\n",
       "      <th>ID_WKQPWF3</th>\n",
       "      <td>785.803322</td>\n",
       "      <td>750.616179</td>\n",
       "      <td>787.260763</td>\n",
       "      <td>784.325356</td>\n",
       "      <td>948.498733</td>\n",
       "      <td>842.030427</td>\n",
       "    </tr>\n",
       "  </tbody>\n",
       "</table>\n",
       "<p>9336 rows × 6 columns</p>\n",
       "</div>"
      ]
     },
     "metadata": {},
     "execution_count": 22
    }
   ],
   "metadata": {}
  },
  {
   "cell_type": "code",
   "execution_count": null,
   "source": [],
   "outputs": [],
   "metadata": {}
  }
 ],
 "metadata": {
  "interpreter": {
   "hash": "3bc81eff3f7349fb5c9010b3f98278c4de2e0aa5a877fb2184178b843625e416"
  },
  "kernelspec": {
   "display_name": "Python 3",
   "language": "python",
   "name": "python3"
  },
  "language_info": {
   "codemirror_mode": {
    "name": "ipython",
    "version": 3
   },
   "file_extension": ".py",
   "mimetype": "text/x-python",
   "name": "python",
   "nbconvert_exporter": "python",
   "pygments_lexer": "ipython3",
   "version": "3.7.4"
  }
 },
 "nbformat": 4,
 "nbformat_minor": 4
}